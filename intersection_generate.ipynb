{
  "nbformat": 4,
  "nbformat_minor": 0,
  "metadata": {
    "colab": {
      "provenance": [],
      "mount_file_id": "1IS5xb5zDR_iqYZ_9_PSuKzhnRJ93Gu78",
      "authorship_tag": "ABX9TyOIl8Mh66c36iDcyB54mhcO",
      "include_colab_link": true
    },
    "kernelspec": {
      "name": "python3",
      "display_name": "Python 3"
    },
    "language_info": {
      "name": "python"
    }
  },
  "cells": [
    {
      "cell_type": "markdown",
      "metadata": {
        "id": "view-in-github",
        "colab_type": "text"
      },
      "source": [
        "<a href=\"https://colab.research.google.com/github/yunusemravci/utdf2gmns/blob/main/intersection_generate.ipynb\" target=\"_parent\"><img src=\"https://colab.research.google.com/assets/colab-badge.svg\" alt=\"Open In Colab\"/></a>"
      ]
    },
    {
      "cell_type": "code",
      "source": [
        "from google.colab import drive\n",
        "drive.mount('/content/drive/')"
      ],
      "metadata": {
        "id": "HpLuTr-P2ZOf"
      },
      "execution_count": null,
      "outputs": []
    },
    {
      "cell_type": "code",
      "source": [
        "!pip install utdf2gmns\n",
        "!pip install osm2gmns"
      ],
      "metadata": {
        "id": "FEgD7OMG2qXZ"
      },
      "execution_count": null,
      "outputs": []
    },
    {
      "cell_type": "code",
      "source": [
        "from IPython.utils import path\n",
        "from traitlets.traitlets import link\n",
        "from osm2gmns.osmnet.build_net import getNetFromFile\n",
        "import os\n",
        "import osm2gmns as og\n",
        "import pandas as pd\n",
        "import csv\n",
        "from collections import defaultdict"
      ],
      "metadata": {
        "id": "QBFl6sD3zHka"
      },
      "execution_count": null,
      "outputs": []
    },
    {
      "cell_type": "code",
      "source": [
        "def generate_intersection_codes(df):\n",
        "  node_id_group = df.groupby(['node_id'])\n",
        "  intersection_codes = {}\n",
        "\n",
        "  for node_id, group in node_id_group:\n",
        "\n",
        "    codes = []\n",
        "    for (ib_node_id,mvmt_txt), sub_group in group.groupby(['ib_osm_node_id', group['mvmt_txt_id'].str[:-1]]):\n",
        "\n",
        "      lane_type = mvmt_txt[-1]\n",
        "      direction = mvmt_txt\n",
        "      lane_types = sub_group['mvmt_txt_id'].str[-1].unique()\n",
        "\n",
        "      unique_ib_osm_node_ids = sub_group['ib_osm_node_id'].nunique()\n",
        "      unique_start_ib_lanes = sub_group['start_ib_lane'].nunique()\n",
        "      unique_end_ib_lanes = sub_group['end_ib_lane'].nunique()\n",
        "      total_lanes = sub_group['lanes'].sum()\n",
        "\n",
        "      if len(lane_types) > 1:\n",
        "        # All lanes are shared in sub group\n",
        "        if unique_ib_osm_node_ids == 1 and unique_start_ib_lanes == 1 and unique_end_ib_lanes == 1:\n",
        "          # Check any shared lanes with thru type\n",
        "          if 'T' in lane_types:\n",
        "            shared_type = [t for t in lane_types if t != 'T'][0]\n",
        "            code =  f\"{shared_type}S{sub_group[sub_group['mvmt_txt_id'].str[-1] == 'T']['lanes'].sum()}\"\n",
        "          # No thru type, merge other shared lane types\n",
        "          else:\n",
        "            shared_types = ''.join(sorted(lane_types))\n",
        "            code = f\"{shared_types}S{sub_group['end_ib_lane'].sum() - sub_group['start_ib_lane'].sum() + 1}\"\n",
        "        # some of lanes are shared of thru type's with other types\n",
        "        elif unique_ib_osm_node_ids == 1 and unique_start_ib_lanes == 1 and unique_end_ib_lanes != 1:\n",
        "          thru_lanes = sub_group[sub_group['mvmt_txt_id'].str[-1] == 'T']['lanes'].sum()\n",
        "          shared_lanes = total_lanes - thru_lanes\n",
        "          # Find shared type with thru type\n",
        "          shared_type = [t for t in lane_types if t != 'T'][0]\n",
        "\n",
        "          code = f\"T{thru_lanes-shared_lanes}{shared_type}S{shared_lanes}\"\n",
        "        elif unique_ib_osm_node_ids == 1 and unique_start_ib_lanes != 1 and unique_end_ib_lanes != 1:\n",
        "          code = \"\"\n",
        "          for i in range(len(lane_types)):\n",
        "            current_lane_type = lane_types[i]\n",
        "\n",
        "            current_lane_count = sub_group[sub_group['mvmt_txt_id'].str.endswith(current_lane_type)]['lanes'].sum()\n",
        "\n",
        "            code += f\"{current_lane_type}{current_lane_count}\"\n",
        "\n",
        "        codes.append(f\"{direction}{code}\")\n",
        "      else:\n",
        "        codes.append(f\"{direction}{lane_types[0]}{total_lanes}\")\n",
        "\n",
        "    intersection_codes[node_id] = sorted(codes)\n",
        "\n",
        "  return intersection_codes"
      ],
      "metadata": {
        "id": "EYpgQ5_NdA-Y"
      },
      "execution_count": 4,
      "outputs": []
    },
    {
      "cell_type": "code",
      "source": [
        "df = pd.read_csv('/content/drive/MyDrive/utdf2gmns/data_bullhead_seg4/movement_utdf.csv')\n",
        "\n",
        "intersection_codes = generate_intersection_codes(df)\n",
        "#print(intersection_codes)\n",
        "\n",
        "combined_codes = {}\n",
        "for key, value in intersection_codes.items():\n",
        "    combined_string = ''.join(sorted(value))\n",
        "    combined_codes[key] = combined_string\n",
        "\n",
        "# Mapping osm_node_id and merged intersection codes\n",
        "df['intersection_code'] = df['node_id'].map(combined_codes)\n",
        "\n",
        "# Keep only one intersection record for the repeating node_id\n",
        "df.loc[df['node_id'].duplicated(keep='first'), 'intersection_code'] = None\n",
        "\n",
        "# Save back to movement_utdf\n",
        "df.to_csv(\"/content/drive/MyDrive/utdf2gmns/data_bullhead_seg4/movement_utdf_with_codes.csv\", index=False)\n"
      ],
      "metadata": {
        "id": "x-UgXxRWx2Fk"
      },
      "execution_count": null,
      "outputs": []
    }
  ]
}